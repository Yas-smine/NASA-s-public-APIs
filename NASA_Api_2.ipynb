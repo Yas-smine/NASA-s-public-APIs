{
 "cells": [
  {
   "cell_type": "code",
   "execution_count": null,
   "id": "097d1efb",
   "metadata": {},
   "outputs": [
    {
     "name": "stdout",
     "output_type": "stream",
     "text": [
      "Title: \n",
      " Fireflies, Meteors, and Milky Way\n",
      "Date:\n",
      " 2025-08-02\n",
      " \n",
      " URL: https://apod.nasa.gov/apod/image/2508/DeltaAqrFireflies1024.jpg\n",
      "HD URL: https://apod.nasa.gov/apod/image/2508/DeltaAqrFireflies.jpg\n",
      "\n",
      "Description:\n",
      " Taken on July 29 and July 30, a registered and stacked series of exposures creates this dreamlike view of a northern summer night. Multiple firefly flashes streak across the foreground as the luminous Milky Way arcs above the horizon in the Sierra de Órganos national park of central Mexico, The collection of bright streaks aligned across the sky toward the upper left in the timelapse image are Delta Aquariid meteors. Currently active, the annual Delta Aquarid meteor shower shares August nights though, overlapping with the better-known Perseid meteor shower. This year that makes post-midnight, mostly moonless skies in early August very popular with late night skygazers. How can you tell a Delta Aquariid from a Perseid meteor?  The streaks of Perseid meteors can be traced back to an apparent radiant in the constellation Perseus. Delta Aquariids appear to emerge from the more southerly constellation Aquarius, beyond the top left of this frame. Of course, the bioluminescent flashes of fireflies are common too on these northern summer nights. But how can you tell a firefly from a meteor? Just try to catch one.\n"
     ]
    },
    {
     "data": {
      "text/html": [
       "<img src=\"https://apod.nasa.gov/apod/image/2508/DeltaAqrFireflies.jpg\"/>"
      ],
      "text/plain": [
       "<IPython.core.display.Image object>"
      ]
     },
     "metadata": {},
     "output_type": "display_data"
    }
   ],
   "source": [
    "# Import the necessary packages:\n",
    "\n",
    "# Imports the requests library for sending HTTP requests\n",
    "import requests \n",
    "\n",
    "# Import the os module to interact with the operating system (for environment variables like API)\n",
    "import os\n",
    "\n",
    "# importing the load_dotenv function from the python-dotenv library\n",
    "# It loads variables from a .env file into your system’s environment variables\n",
    "# to keep sensitive information outside of the code\n",
    "from dotenv import load_dotenv \n",
    "\n",
    "# Load the API key:\n",
    "load_dotenv()\n",
    "# Access the NASA API key stored in the .env file\n",
    "api_key = os.getenv(\"NASA_API_KEY\") # Get the API key from an environment variable called 'NASA_API_KEY'\n",
    "\n",
    "# Base URL for the NASA API\n",
    "Apod_url = \"https://api.nasa.gov/planetary/apod\"\n",
    "\n",
    "# Packs the query parameters into a dictionary\n",
    "params = {\n",
    "    \"api_key\": api_key, # My NASA API key\n",
    "    \"date\": \"2025-08-02\", # Specific date (YYYY-MM-DD)\n",
    "    \"thumbs\": \"True\" #Return video thumbnails if the APOD is a video\n",
    "}\n",
    "\n",
    "# Sends a GET request to the APOD API with the parameters\n",
    "response = requests.get(Apod_url, params=params)\n",
    "\n",
    "# Convert the response to JSON format\n",
    "data = response.json()\n",
    "# print(data)\n",
    "\n",
    "# Display the information about the APOD\n",
    "print(\"Title: \\n\", data[\"title\"])\n",
    "print(\"Date:\\n\", data[\"date\"])\n",
    "print(\" \\n URL:\", data[\"url\"])\n",
    "print(\"HD URL:\", data[\"hdurl\"])\n",
    "print(\"\\nDescription:\\n\", data[\"explanation\"])\n",
    "\n",
    "from IPython.display import Image, display\n",
    "HD_URL = \"https://apod.nasa.gov/apod/image/2508/DeltaAqrFireflies.jpg\"\n",
    "display(Image(url = HD_URL))\n"
   ]
  }
 ],
 "metadata": {
  "kernelspec": {
   "display_name": "Python 3",
   "language": "python",
   "name": "python3"
  },
  "language_info": {
   "codemirror_mode": {
    "name": "ipython",
    "version": 3
   },
   "file_extension": ".py",
   "mimetype": "text/x-python",
   "name": "python",
   "nbconvert_exporter": "python",
   "pygments_lexer": "ipython3",
   "version": "3.11.9"
  }
 },
 "nbformat": 4,
 "nbformat_minor": 5
}
